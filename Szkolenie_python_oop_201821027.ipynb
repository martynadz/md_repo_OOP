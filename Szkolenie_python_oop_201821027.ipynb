{
 "cells": [
  {
   "cell_type": "markdown",
   "metadata": {},
   "source": [
    "# Dzień trzeci - bootcamp 27/10/2018\n",
    "* OOP - object oriented programming\n",
    "* class - klasa - model rzeczywistości - abstract"
   ]
  },
  {
   "cell_type": "code",
   "execution_count": 2,
   "metadata": {},
   "outputs": [],
   "source": [
    "class Human:\n",
    "    pass #omijamy definicję"
   ]
  },
  {
   "cell_type": "raw",
   "metadata": {},
   "source": [
    "# Tworzenie klasy"
   ]
  },
  {
   "cell_type": "code",
   "execution_count": 9,
   "metadata": {},
   "outputs": [],
   "source": [
    "class Human:\n",
    "    #tworzymy konstruktor, który określa nam obiekt z naszej klasy\n",
    "    def __init__(self, name, surname, weight): #metoda która mówi nam jak tworzyć konkretny obiekt, z jakimi parametrami\n",
    "        self.name = name #przypisuje do instancji konkretnego człowieka podane imię.\n",
    "        self.surname = surname\n",
    "        self.weight = weight\n",
    "        self.sex = 'female' #płeć przypisana na stałe, nie modyfikowalna\n",
    "        self.marital_status = 'single'\n",
    "        "
   ]
  },
  {
   "cell_type": "code",
   "execution_count": 10,
   "metadata": {},
   "outputs": [],
   "source": [
    "ania = Human('Ania','Nowak',55) #przypisujemy zmiennej \"ania\" typ Human i wartości imię, nazwisko i wagę"
   ]
  },
  {
   "cell_type": "code",
   "execution_count": 11,
   "metadata": {},
   "outputs": [
    {
     "data": {
      "text/plain": [
       "<__main__.Human at 0x7fe18bd13240>"
      ]
     },
     "execution_count": 11,
     "metadata": {},
     "output_type": "execute_result"
    }
   ],
   "source": [
    "ania #__main__ - mówi nam o tym że klasa jest zdefiniowana w naszym głównym notebook'u \"szkolenie_python_oop_201821027\""
   ]
  },
  {
   "cell_type": "code",
   "execution_count": 12,
   "metadata": {},
   "outputs": [
    {
     "data": {
      "text/plain": [
       "'Ania'"
      ]
     },
     "execution_count": 12,
     "metadata": {},
     "output_type": "execute_result"
    }
   ],
   "source": [
    "ania.name"
   ]
  },
  {
   "cell_type": "code",
   "execution_count": 13,
   "metadata": {},
   "outputs": [
    {
     "data": {
      "text/plain": [
       "'female'"
      ]
     },
     "execution_count": 13,
     "metadata": {},
     "output_type": "execute_result"
    }
   ],
   "source": [
    "ania.sex"
   ]
  },
  {
   "cell_type": "code",
   "execution_count": 15,
   "metadata": {},
   "outputs": [
    {
     "data": {
      "text/plain": [
       "'single'"
      ]
     },
     "execution_count": 15,
     "metadata": {},
     "output_type": "execute_result"
    }
   ],
   "source": [
    "ania.marital_status"
   ]
  },
  {
   "cell_type": "code",
   "execution_count": 16,
   "metadata": {},
   "outputs": [],
   "source": [
    "ania.weight -= 5"
   ]
  },
  {
   "cell_type": "code",
   "execution_count": 17,
   "metadata": {},
   "outputs": [
    {
     "data": {
      "text/plain": [
       "50"
      ]
     },
     "execution_count": 17,
     "metadata": {},
     "output_type": "execute_result"
    }
   ],
   "source": [
    "ania.weight"
   ]
  },
  {
   "cell_type": "code",
   "execution_count": 18,
   "metadata": {},
   "outputs": [],
   "source": [
    "ania.height = 160 #dodaje cechę wzrost, ale tylko tej konkretnej zmiennej \"ania\""
   ]
  },
  {
   "cell_type": "code",
   "execution_count": 19,
   "metadata": {},
   "outputs": [
    {
     "data": {
      "text/plain": [
       "160"
      ]
     },
     "execution_count": 19,
     "metadata": {},
     "output_type": "execute_result"
    }
   ],
   "source": [
    "ania.height"
   ]
  },
  {
   "cell_type": "code",
   "execution_count": 20,
   "metadata": {},
   "outputs": [],
   "source": [
    "jola = Human('Jola','Nowak',57)"
   ]
  },
  {
   "cell_type": "code",
   "execution_count": 21,
   "metadata": {},
   "outputs": [
    {
     "ename": "AttributeError",
     "evalue": "'Human' object has no attribute 'height'",
     "output_type": "error",
     "traceback": [
      "\u001b[0;31m---------------------------------------------------------------------------\u001b[0m",
      "\u001b[0;31mAttributeError\u001b[0m                            Traceback (most recent call last)",
      "\u001b[0;32m<ipython-input-21-23ed64bf76e9>\u001b[0m in \u001b[0;36m<module>\u001b[0;34m()\u001b[0m\n\u001b[0;32m----> 1\u001b[0;31m \u001b[0mjola\u001b[0m\u001b[0;34m.\u001b[0m\u001b[0mheight\u001b[0m\u001b[0;34m\u001b[0m\u001b[0m\n\u001b[0m",
      "\u001b[0;31mAttributeError\u001b[0m: 'Human' object has no attribute 'height'"
     ]
    }
   ],
   "source": [
    "jola.height"
   ]
  },
  {
   "cell_type": "code",
   "execution_count": 23,
   "metadata": {},
   "outputs": [
    {
     "data": {
      "text/plain": [
       "{'name': 'Ania',\n",
       " 'surname': 'Nowak',\n",
       " 'weight': 50,\n",
       " 'sex': 'female',\n",
       " 'marital_status': 'single',\n",
       " 'height': 160}"
      ]
     },
     "execution_count": 23,
     "metadata": {},
     "output_type": "execute_result"
    }
   ],
   "source": [
    "ania.__dict__ #wyświetla wszystkie cechy i wartości"
   ]
  },
  {
   "cell_type": "code",
   "execution_count": 24,
   "metadata": {},
   "outputs": [
    {
     "data": {
      "text/plain": [
       "['__class__',\n",
       " '__delattr__',\n",
       " '__dict__',\n",
       " '__dir__',\n",
       " '__doc__',\n",
       " '__eq__',\n",
       " '__format__',\n",
       " '__ge__',\n",
       " '__getattribute__',\n",
       " '__gt__',\n",
       " '__hash__',\n",
       " '__init__',\n",
       " '__init_subclass__',\n",
       " '__le__',\n",
       " '__lt__',\n",
       " '__module__',\n",
       " '__ne__',\n",
       " '__new__',\n",
       " '__reduce__',\n",
       " '__reduce_ex__',\n",
       " '__repr__',\n",
       " '__setattr__',\n",
       " '__sizeof__',\n",
       " '__str__',\n",
       " '__subclasshook__',\n",
       " '__weakref__',\n",
       " 'height',\n",
       " 'marital_status',\n",
       " 'name',\n",
       " 'sex',\n",
       " 'surname',\n",
       " 'weight']"
      ]
     },
     "execution_count": 24,
     "metadata": {},
     "output_type": "execute_result"
    }
   ],
   "source": [
    "dir(ania)"
   ]
  },
  {
   "cell_type": "code",
   "execution_count": 25,
   "metadata": {},
   "outputs": [
    {
     "data": {
      "text/plain": [
       "__main__.Human"
      ]
     },
     "execution_count": 25,
     "metadata": {},
     "output_type": "execute_result"
    }
   ],
   "source": [
    "ania.__class__"
   ]
  },
  {
   "cell_type": "code",
   "execution_count": 28,
   "metadata": {},
   "outputs": [],
   "source": [
    "del ania.marital_status"
   ]
  },
  {
   "cell_type": "code",
   "execution_count": 29,
   "metadata": {},
   "outputs": [
    {
     "data": {
      "text/plain": [
       "{'name': 'Ania',\n",
       " 'surname': 'Nowak',\n",
       " 'weight': 50,\n",
       " 'sex': 'female',\n",
       " 'height': 160}"
      ]
     },
     "execution_count": 29,
     "metadata": {},
     "output_type": "execute_result"
    }
   ],
   "source": [
    "ania.__dict__"
   ]
  },
  {
   "cell_type": "code",
   "execution_count": 57,
   "metadata": {},
   "outputs": [],
   "source": [
    "class Human:\n",
    "    #Atrybuty klasowe -  takie same dla wszystkich obiektów z klasy, uwaga - da się nadpisac atrybut, mimo że powinien być niezmienialny\n",
    "    species = 'homo-sapiens'\n",
    "    def __init__(self, name, surname, weight): \n",
    "        self.name = name \n",
    "        self.surname = surname\n",
    "        self.weight = weight\n",
    "        self.sex = 'female' \n",
    "        self.marital_status = 'single'"
   ]
  },
  {
   "cell_type": "code",
   "execution_count": 58,
   "metadata": {},
   "outputs": [],
   "source": [
    "ewa = Human('Ewa','Nowak',54)"
   ]
  },
  {
   "cell_type": "code",
   "execution_count": 59,
   "metadata": {},
   "outputs": [
    {
     "data": {
      "text/plain": [
       "'homo-sapiens'"
      ]
     },
     "execution_count": 59,
     "metadata": {},
     "output_type": "execute_result"
    }
   ],
   "source": [
    "ewa.species"
   ]
  },
  {
   "cell_type": "code",
   "execution_count": 60,
   "metadata": {},
   "outputs": [
    {
     "data": {
      "text/plain": [
       "['__class__',\n",
       " '__delattr__',\n",
       " '__dict__',\n",
       " '__dir__',\n",
       " '__doc__',\n",
       " '__eq__',\n",
       " '__format__',\n",
       " '__ge__',\n",
       " '__getattribute__',\n",
       " '__gt__',\n",
       " '__hash__',\n",
       " '__init__',\n",
       " '__init_subclass__',\n",
       " '__le__',\n",
       " '__lt__',\n",
       " '__module__',\n",
       " '__ne__',\n",
       " '__new__',\n",
       " '__reduce__',\n",
       " '__reduce_ex__',\n",
       " '__repr__',\n",
       " '__setattr__',\n",
       " '__sizeof__',\n",
       " '__str__',\n",
       " '__subclasshook__',\n",
       " '__weakref__',\n",
       " 'marital_status',\n",
       " 'name',\n",
       " 'sex',\n",
       " 'species',\n",
       " 'surname',\n",
       " 'weight']"
      ]
     },
     "execution_count": 60,
     "metadata": {},
     "output_type": "execute_result"
    }
   ],
   "source": [
    "dir(ewa)"
   ]
  },
  {
   "cell_type": "code",
   "execution_count": 61,
   "metadata": {},
   "outputs": [],
   "source": [
    "Human.species = 'homo-erectus' #atrybuty  zmieniają się w każdym z obiektów przypisanych do klasy, bez konieczności ich ponownego definiowania"
   ]
  },
  {
   "cell_type": "code",
   "execution_count": 62,
   "metadata": {},
   "outputs": [
    {
     "data": {
      "text/plain": [
       "'homo-erectus'"
      ]
     },
     "execution_count": 62,
     "metadata": {},
     "output_type": "execute_result"
    }
   ],
   "source": [
    "ewa.species"
   ]
  },
  {
   "cell_type": "code",
   "execution_count": 63,
   "metadata": {},
   "outputs": [],
   "source": [
    "class Human:\n",
    "    species = 'homo-sapiens'\n",
    "    def __init__(self, name, surname, weight): \n",
    "        self.name = name \n",
    "        self.surname = surname\n",
    "        self.weight = weight\n",
    "        self.sex = 'female' \n",
    "        self.marital_status = 'single'\n",
    "        \n",
    "    def say_hello(self): #kiedy mamy w parametrach self, to mozemy odwoływać się do wszystkich parametrów z metody __init__\n",
    "        print(\"Hello I'm {} {}\".format(self.name,self.surname))"
   ]
  },
  {
   "cell_type": "code",
   "execution_count": 64,
   "metadata": {},
   "outputs": [
    {
     "ename": "AttributeError",
     "evalue": "'Human' object has no attribute 'say_hello'",
     "output_type": "error",
     "traceback": [
      "\u001b[0;31m---------------------------------------------------------------------------\u001b[0m",
      "\u001b[0;31mAttributeError\u001b[0m                            Traceback (most recent call last)",
      "\u001b[0;32m<ipython-input-64-ce332d397734>\u001b[0m in \u001b[0;36m<module>\u001b[0;34m()\u001b[0m\n\u001b[0;32m----> 1\u001b[0;31m \u001b[0mewa\u001b[0m\u001b[0;34m.\u001b[0m\u001b[0msay_hello\u001b[0m\u001b[0;34m(\u001b[0m\u001b[0;34m)\u001b[0m \u001b[0;31m#nie zadziała bo \"ewa\" była zdefiniowana przed zmianą definicji klasy\u001b[0m\u001b[0;34m\u001b[0m\u001b[0m\n\u001b[0m",
      "\u001b[0;31mAttributeError\u001b[0m: 'Human' object has no attribute 'say_hello'"
     ]
    }
   ],
   "source": [
    "ewa.say_hello() #nie zadziała bo \"ewa\" była zdefiniowana przed zmianą definicji klasy, przed dodaniem metody say_hello()"
   ]
  },
  {
   "cell_type": "code",
   "execution_count": 65,
   "metadata": {},
   "outputs": [],
   "source": [
    "adam = Human('Adam','Nowak',67)"
   ]
  },
  {
   "cell_type": "code",
   "execution_count": 67,
   "metadata": {},
   "outputs": [
    {
     "name": "stdout",
     "output_type": "stream",
     "text": [
      "Hello I'm Adam Nowak\n"
     ]
    }
   ],
   "source": [
    "adam.say_hello()"
   ]
  },
  {
   "cell_type": "markdown",
   "metadata": {},
   "source": [
    "# Properties"
   ]
  },
  {
   "cell_type": "code",
   "execution_count": 77,
   "metadata": {},
   "outputs": [],
   "source": [
    "class Human:\n",
    "    species = 'homo-sapiens'\n",
    "    def __init__(self, name, surname, weight): \n",
    "        self.name = name \n",
    "        self.surname = surname\n",
    "        self.weight = weight\n",
    "        self.sex = 'female' \n",
    "        self.marital_status = 'single'\n",
    "        \n",
    "    def say_hello(self): \n",
    "        print(\"Hello I'm {} {}\".format(self.name,self.surname))\n",
    "    \n",
    "    @property #właściwość\n",
    "    def like_bond_name(self):\n",
    "        return \"{surname}, {name} {surname}\".format(surname=self.surname,name=self.name)"
   ]
  },
  {
   "cell_type": "code",
   "execution_count": 78,
   "metadata": {},
   "outputs": [],
   "source": [
    "kasia = Human('Katarzyna','Nowak',13)"
   ]
  },
  {
   "cell_type": "code",
   "execution_count": 81,
   "metadata": {},
   "outputs": [
    {
     "data": {
      "text/plain": [
       "'Nowak, Katarzyna Nowak'"
      ]
     },
     "execution_count": 81,
     "metadata": {},
     "output_type": "execute_result"
    }
   ],
   "source": [
    "kasia.like_bond_name #jak nie ma @property to z nawiasami. Teraz odwołujemy sie jako do atrybutu"
   ]
  },
  {
   "cell_type": "markdown",
   "metadata": {},
   "source": [
    "# Metody specjalne"
   ]
  },
  {
   "cell_type": "code",
   "execution_count": 82,
   "metadata": {},
   "outputs": [
    {
     "data": {
      "text/plain": [
       "<__main__.Human at 0x7fe188309080>"
      ]
     },
     "execution_count": 82,
     "metadata": {},
     "output_type": "execute_result"
    }
   ],
   "source": [
    "adam"
   ]
  },
  {
   "cell_type": "code",
   "execution_count": 83,
   "metadata": {},
   "outputs": [
    {
     "data": {
      "text/plain": [
       "'<__main__.Human object at 0x7fe188309080>'"
      ]
     },
     "execution_count": 83,
     "metadata": {},
     "output_type": "execute_result"
    }
   ],
   "source": [
    "str(adam)"
   ]
  },
  {
   "cell_type": "code",
   "execution_count": 121,
   "metadata": {},
   "outputs": [],
   "source": [
    "class Human:\n",
    "    species = 'homo-sapiens'\n",
    "    def __init__(self, name, surname, weight, height): \n",
    "        self.name = name \n",
    "        self.surname = surname\n",
    "        self.weight = weight\n",
    "        self.height = height\n",
    "        self.sex = 'female' \n",
    "        self.marital_status = 'single'\n",
    "        \n",
    "    def say_hello(self): \n",
    "        print(\"Hello I'm {} {}\".format(self.name,self.surname))\n",
    "    \n",
    "    @property #właściwość\n",
    "    def like_bond_name(self):\n",
    "        return \"{surname}, {name} {surname}\".format(surname=self.surname,name=self.name)\n",
    "    \n",
    "    def __str__(self):\n",
    "        return self.like_bond_name\n",
    "    \n",
    "    def __len__(self):\n",
    "        return self.height\n",
    "    \n",
    "    def __repr__(self):\n",
    "        return \"{} with name: {}\".format(self.__class__,self.name)\n",
    "      "
   ]
  },
  {
   "cell_type": "code",
   "execution_count": 122,
   "metadata": {},
   "outputs": [],
   "source": [
    "adam = Human('Adam','Nowak',80,180)"
   ]
  },
  {
   "cell_type": "code",
   "execution_count": 123,
   "metadata": {},
   "outputs": [
    {
     "data": {
      "text/plain": [
       "'Nowak, Adam Nowak'"
      ]
     },
     "execution_count": 123,
     "metadata": {},
     "output_type": "execute_result"
    }
   ],
   "source": [
    "str(adam)"
   ]
  },
  {
   "cell_type": "code",
   "execution_count": 124,
   "metadata": {},
   "outputs": [
    {
     "data": {
      "text/plain": [
       "180"
      ]
     },
     "execution_count": 124,
     "metadata": {},
     "output_type": "execute_result"
    }
   ],
   "source": [
    "len(adam)"
   ]
  },
  {
   "cell_type": "code",
   "execution_count": 125,
   "metadata": {},
   "outputs": [
    {
     "data": {
      "text/plain": [
       "\"<class '__main__.Human'> with name: Adam\""
      ]
     },
     "execution_count": 125,
     "metadata": {},
     "output_type": "execute_result"
    }
   ],
   "source": [
    "repr(adam) #reprezentacja obiektu"
   ]
  },
  {
   "cell_type": "code",
   "execution_count": 128,
   "metadata": {},
   "outputs": [
    {
     "data": {
      "text/plain": [
       "<class '__main__.Human'> with name: Adam"
      ]
     },
     "execution_count": 128,
     "metadata": {},
     "output_type": "execute_result"
    }
   ],
   "source": [
    "adam #jak zdefiniujemy metodę repr, to domyślnie wyświetla wartość tej metody dla obiektu adam"
   ]
  },
  {
   "cell_type": "code",
   "execution_count": 131,
   "metadata": {},
   "outputs": [
    {
     "ename": "AttributeError",
     "evalue": "'str' object has no attribute 'add'",
     "output_type": "error",
     "traceback": [
      "\u001b[0;31m---------------------------------------------------------------------------\u001b[0m",
      "\u001b[0;31mAttributeError\u001b[0m                            Traceback (most recent call last)",
      "\u001b[0;32m<ipython-input-131-32110a0f3985>\u001b[0m in \u001b[0;36m<module>\u001b[0;34m()\u001b[0m\n\u001b[0;32m----> 1\u001b[0;31m \u001b[0mstr\u001b[0m\u001b[0;34m(\u001b[0m\u001b[0madam\u001b[0m\u001b[0;34m)\u001b[0m\u001b[0;34m.\u001b[0m\u001b[0madd\u001b[0m\u001b[0;34m(\u001b[0m\u001b[0;34m\"1\"\u001b[0m\u001b[0;34m)\u001b[0m\u001b[0;34m\u001b[0m\u001b[0m\n\u001b[0m",
      "\u001b[0;31mAttributeError\u001b[0m: 'str' object has no attribute 'add'"
     ]
    }
   ],
   "source": []
  },
  {
   "cell_type": "code",
   "execution_count": 133,
   "metadata": {},
   "outputs": [
    {
     "name": "stdout",
     "output_type": "stream",
     "text": [
      "Nowak, Adam Nowak\n"
     ]
    }
   ],
   "source": [
    "print(adam) # print w domyśle bierze wartość metody str"
   ]
  },
  {
   "cell_type": "markdown",
   "metadata": {},
   "source": [
    "# Zadanie 1 i 3"
   ]
  },
  {
   "cell_type": "code",
   "execution_count": 362,
   "metadata": {},
   "outputs": [],
   "source": [
    "class Car:\n",
    "    import random\n",
    "    def __init__(self, name, brand, engine, volume, consumption, milage, color=None): \n",
    "        self.name = name \n",
    "        self.brand = brand\n",
    "        self.engine = engine\n",
    "        self.volume = volume\n",
    "        self.consumption = consumption\n",
    "        self.milage = milage\n",
    "        if color is None:\n",
    "            color = random.choice([\"pink\",\"red\",\"blue\"])\n",
    "        self.color = color\n",
    "\n",
    "    def __str__(self):\n",
    "        return \"Car {} {}\".format(self.name,self.brand)\n",
    "    \n",
    "    def __repr__(self):\n",
    "        return \"{} with name: {} and brand: {}\".format(self.__class__,self.name,self.brand) \n",
    "    \n",
    "    def go(self):\n",
    "        print(\"{} Go go Go go!!!\".format(self.name))\n",
    "        \n",
    "    def consumption_per_km(self):\n",
    "        return self.consumption*0.425143707\n",
    "        "
   ]
  },
  {
   "cell_type": "code",
   "execution_count": 366,
   "metadata": {},
   "outputs": [],
   "source": [
    "ls_cars = [Car('Focus','Ford','LPG',1.6, 8, 130000), Car('Mondeo','Ford','LPG',1.4, 7, 10000, 'black'),Car('Fiesta','Ford','LPG',1.4, 9, 160000, 'white')]\n"
   ]
  },
  {
   "cell_type": "code",
   "execution_count": 367,
   "metadata": {},
   "outputs": [
    {
     "data": {
      "text/plain": [
       "[<class '__main__.Car'> with name: Focus and brand: Ford,\n",
       " <class '__main__.Car'> with name: Mondeo and brand: Ford,\n",
       " <class '__main__.Car'> with name: Fiesta and brand: Ford]"
      ]
     },
     "execution_count": 367,
     "metadata": {},
     "output_type": "execute_result"
    }
   ],
   "source": [
    "ls_cars"
   ]
  },
  {
   "cell_type": "code",
   "execution_count": 368,
   "metadata": {},
   "outputs": [
    {
     "data": {
      "text/plain": [
       "'pink'"
      ]
     },
     "execution_count": 368,
     "metadata": {},
     "output_type": "execute_result"
    }
   ],
   "source": [
    "ls_cars[0].color"
   ]
  },
  {
   "cell_type": "code",
   "execution_count": 276,
   "metadata": {},
   "outputs": [
    {
     "name": "stdout",
     "output_type": "stream",
     "text": [
      "Focus Go go Go go!!!\n"
     ]
    }
   ],
   "source": [
    "ls_cars[0].go()"
   ]
  },
  {
   "cell_type": "code",
   "execution_count": 279,
   "metadata": {},
   "outputs": [
    {
     "data": {
      "text/plain": [
       "3.401149656"
      ]
     },
     "execution_count": 279,
     "metadata": {},
     "output_type": "execute_result"
    }
   ],
   "source": [
    "ls_cars[0].consumption_per_km()"
   ]
  },
  {
   "cell_type": "markdown",
   "metadata": {},
   "source": [
    "# Zadanie 2"
   ]
  },
  {
   "cell_type": "code",
   "execution_count": 7,
   "metadata": {},
   "outputs": [],
   "source": [
    "class Human:\n",
    "    class_counter = 1\n",
    "    def __init__(self,name,weight,height):\n",
    "        self.id = Human.class_counter\n",
    "        self.name = name\n",
    "        self.weight = weight\n",
    "        self.height = height\n",
    "        Human.class_counter += 1\n",
    "        \n",
    "    def __repr__(self): #bardziej technicznie\n",
    "        return \"{} with name: {}\".format(self.__class__,self.name)\n",
    "        \n",
    "    @property\n",
    "    def bmi(self):\n",
    "        return self.weight/(self.height/100)**2\n",
    "        \n",
    "    def eat(self,calories):\n",
    "        if calories>2000:\n",
    "            self.weight +=1\n",
    "    \n",
    "    def exercise(self,hours):\n",
    "        self.weight -= hours/10"
   ]
  },
  {
   "cell_type": "code",
   "execution_count": 379,
   "metadata": {},
   "outputs": [],
   "source": [
    "aga = Human('Aga',53,168)"
   ]
  },
  {
   "cell_type": "code",
   "execution_count": 380,
   "metadata": {},
   "outputs": [
    {
     "data": {
      "text/plain": [
       "1"
      ]
     },
     "execution_count": 380,
     "metadata": {},
     "output_type": "execute_result"
    }
   ],
   "source": [
    "aga.id"
   ]
  },
  {
   "cell_type": "code",
   "execution_count": 381,
   "metadata": {},
   "outputs": [],
   "source": [
    "aga.eat(2030)"
   ]
  },
  {
   "cell_type": "code",
   "execution_count": 382,
   "metadata": {},
   "outputs": [
    {
     "data": {
      "text/plain": [
       "54"
      ]
     },
     "execution_count": 382,
     "metadata": {},
     "output_type": "execute_result"
    }
   ],
   "source": [
    "aga.weight"
   ]
  },
  {
   "cell_type": "code",
   "execution_count": 384,
   "metadata": {},
   "outputs": [],
   "source": [
    "aga.exercise(2)"
   ]
  },
  {
   "cell_type": "code",
   "execution_count": 385,
   "metadata": {},
   "outputs": [
    {
     "data": {
      "text/plain": [
       "53.8"
      ]
     },
     "execution_count": 385,
     "metadata": {},
     "output_type": "execute_result"
    }
   ],
   "source": [
    "aga.weight"
   ]
  },
  {
   "cell_type": "code",
   "execution_count": 254,
   "metadata": {},
   "outputs": [],
   "source": [
    "zosia = Human('Zosia',52,166)"
   ]
  },
  {
   "cell_type": "code",
   "execution_count": 255,
   "metadata": {},
   "outputs": [
    {
     "data": {
      "text/plain": [
       "2"
      ]
     },
     "execution_count": 255,
     "metadata": {},
     "output_type": "execute_result"
    }
   ],
   "source": [
    "zosia.id"
   ]
  },
  {
   "cell_type": "code",
   "execution_count": 256,
   "metadata": {},
   "outputs": [
    {
     "data": {
      "text/plain": [
       "18.870663376397157"
      ]
     },
     "execution_count": 256,
     "metadata": {},
     "output_type": "execute_result"
    }
   ],
   "source": [
    "zosia.bmi"
   ]
  },
  {
   "cell_type": "code",
   "execution_count": 268,
   "metadata": {},
   "outputs": [],
   "source": [
    "import random\n",
    "first_names=('John','Andy','Joe','Kamil','Zosia','Joasia')\n",
    "ls_humans = []\n",
    "for i in range(10):\n",
    "    ls_humans.append(Human(random.choice(first_names),random.randint(30,100),random.randint(165,190)))\n"
   ]
  },
  {
   "cell_type": "code",
   "execution_count": 1,
   "metadata": {},
   "outputs": [
    {
     "name": "stdout",
     "output_type": "stream",
     "text": [
      "Requirement already satisfied: Faker in /home/martyna/.local/lib/python3.7/site-packages (0.9.2)\n",
      "Requirement already satisfied: text-unidecode==1.2 in /home/martyna/.local/lib/python3.7/site-packages (from Faker) (1.2)\n",
      "Requirement already satisfied: python-dateutil>=2.4 in /home/martyna/anaconda3/lib/python3.7/site-packages (from Faker) (2.7.3)\n",
      "Requirement already satisfied: six>=1.10 in /home/martyna/anaconda3/lib/python3.7/site-packages (from Faker) (1.11.0)\n",
      "\u001b[33mYou are using pip version 10.0.1, however version 18.1 is available.\n",
      "You should consider upgrading via the 'pip install --upgrade pip' command.\u001b[0m\n"
     ]
    }
   ],
   "source": [
    "#drugi sposób\n",
    "!pip install Faker"
   ]
  },
  {
   "cell_type": "code",
   "execution_count": 2,
   "metadata": {},
   "outputs": [],
   "source": [
    "from faker import Faker"
   ]
  },
  {
   "cell_type": "code",
   "execution_count": 3,
   "metadata": {},
   "outputs": [
    {
     "data": {
      "text/plain": [
       "'pani Inga Gregorowicz'"
      ]
     },
     "execution_count": 3,
     "metadata": {},
     "output_type": "execute_result"
    }
   ],
   "source": [
    "fake=Faker('pl_PL')\n",
    "fake.name()"
   ]
  },
  {
   "cell_type": "code",
   "execution_count": 4,
   "metadata": {},
   "outputs": [],
   "source": [
    "fake.random_int?"
   ]
  },
  {
   "cell_type": "code",
   "execution_count": 9,
   "metadata": {},
   "outputs": [],
   "source": [
    "list_of_humans = [Human(fake.name(),fake.random_int(60,100),fake.random_int(150,200)) for i in range(10)]"
   ]
  },
  {
   "cell_type": "code",
   "execution_count": 10,
   "metadata": {},
   "outputs": [
    {
     "data": {
      "text/plain": [
       "'Stefan Franas'"
      ]
     },
     "execution_count": 10,
     "metadata": {},
     "output_type": "execute_result"
    }
   ],
   "source": [
    "list_of_humans[0].name"
   ]
  },
  {
   "cell_type": "code",
   "execution_count": 269,
   "metadata": {},
   "outputs": [
    {
     "data": {
      "text/plain": [
       "[Kamil, Joe, Zosia, Kamil, Zosia, John, Zosia, Andy, Joe, Joe]"
      ]
     },
     "execution_count": 269,
     "metadata": {},
     "output_type": "execute_result"
    }
   ],
   "source": [
    "ls_humans"
   ]
  },
  {
   "cell_type": "code",
   "execution_count": 270,
   "metadata": {},
   "outputs": [],
   "source": [
    "suma = 0\n",
    "for i in range(len(ls_humans)):\n",
    "    suma += ls_humans[i].bmi\n",
    "bmi = suma/len(ls_humans)"
   ]
  },
  {
   "cell_type": "code",
   "execution_count": 271,
   "metadata": {},
   "outputs": [
    {
     "data": {
      "text/plain": [
       "21.654231342883296"
      ]
     },
     "execution_count": 271,
     "metadata": {},
     "output_type": "execute_result"
    }
   ],
   "source": [
    "bmi"
   ]
  },
  {
   "cell_type": "markdown",
   "metadata": {},
   "source": [
    "# Zadanie 4"
   ]
  },
  {
   "cell_type": "code",
   "execution_count": 330,
   "metadata": {},
   "outputs": [],
   "source": [
    "class population:\n",
    "    def __init__(self,ls_humans):\n",
    "        self.ls_humans = ls_humans\n",
    "    \n",
    "    def mean_bmi(self):\n",
    "        suma = 0 \n",
    "        for i in range(len(self.ls_humans)):\n",
    "            suma += self.ls_humans[i].bmi\n",
    "        return suma/len(self.ls_humans)\n",
    "    \n",
    "    def median_bmi(self):\n",
    "        import statistics \n",
    "        ls_bmi=[]\n",
    "        for i in range(len(self.ls_humans)):\n",
    "            ls_bmi.append(self.ls_humans[i].bmi)\n",
    "        return statistics.median(ls_bmi)\n",
    "        \n",
    "#     def median_bmi2(self):\n",
    "#        ls_bmi=[]\n",
    "#        for i in range(len(self.ls_humans)):\n",
    "#            ls_bmi.append(self.ls_humans[i].bmi())        ls_bmi.sort()\n",
    "#        print(ls_bmi[49])\n",
    "#        print(ls_bmi[50])\n",
    "#        print(len(ls_bmi))\n",
    "#        import math\n",
    "#        if len(ls_bmi)%2==True:\n",
    "#            return ls_bmi[len(ls_bmi)//2+1]\n",
    "#        else:\n",
    "#            return (ls_bmi[(len(ls_bmi)//2)-1]+ls_bmi[len(ls_bmi)//2])/2"
   ]
  },
  {
   "cell_type": "code",
   "execution_count": 331,
   "metadata": {},
   "outputs": [],
   "source": [
    "population1 = population(ls_humans)"
   ]
  },
  {
   "cell_type": "code",
   "execution_count": 332,
   "metadata": {},
   "outputs": [
    {
     "data": {
      "text/plain": [
       "23.686746885866103"
      ]
     },
     "execution_count": 332,
     "metadata": {},
     "output_type": "execute_result"
    }
   ],
   "source": [
    "population1.median_bmi()"
   ]
  },
  {
   "cell_type": "code",
   "execution_count": 333,
   "metadata": {},
   "outputs": [
    {
     "data": {
      "text/plain": [
       "21.654231342883296"
      ]
     },
     "execution_count": 333,
     "metadata": {},
     "output_type": "execute_result"
    }
   ],
   "source": [
    "population1.mean_bmi()"
   ]
  },
  {
   "cell_type": "markdown",
   "metadata": {},
   "source": [
    "# Zadanie\n",
    "\n",
    "    Create class Car(name, brand, engine volume, consumption, milage(american), color)\n",
    "    Create methods:\n",
    "        to calculate miles per galon to liter per 100 km\n",
    "        Calculate whole cost of car usage (take consumption, price of galon $4.114)\n"
   ]
  },
  {
   "cell_type": "code",
   "execution_count": 50,
   "metadata": {},
   "outputs": [],
   "source": [
    "class Car:\n",
    "    import random\n",
    "    def __init__(self, name, brand, engine, volume, consumption, milage, color=None): \n",
    "        self.name = name \n",
    "        self.brand = brand\n",
    "        self.engine = engine\n",
    "        self.volume = volume\n",
    "        self.consumption = consumption\n",
    "        self.milage = milage\n",
    "        if color is None:\n",
    "            color = random.choice([\"pink\",\"red\",\"blue\"])\n",
    "        self.color = color\n",
    "\n",
    "    def __str__(self):\n",
    "        return \"Car {} {}\".format(self.name,self.brand)\n",
    "    \n",
    "    def __repr__(self):\n",
    "        return \"{} with name: {} and brand: {}\".format(self.__class__,self.name,self.brand) \n",
    "    \n",
    "    def go(self):\n",
    "        print(\"{} Go go Go go!!!\".format(self.name))\n",
    "   \n",
    "    @staticmethod\n",
    "    def consumption_per_km(consumption):\n",
    "        return consumption*235.214583\n",
    "    \n",
    "    @staticmethod\n",
    "    def cost(consumption,milage):\n",
    "        return consumption*4.114*milage\n",
    "    \n",
    "    def consumption_per_km2(self):\n",
    "        return self.consumption_per_km(self.consumption)\n",
    "        \n",
    "    \n",
    "   "
   ]
  },
  {
   "cell_type": "code",
   "execution_count": 51,
   "metadata": {},
   "outputs": [
    {
     "data": {
      "text/plain": [
       "4278560.0"
      ]
     },
     "execution_count": 51,
     "metadata": {},
     "output_type": "execute_result"
    }
   ],
   "source": [
    "Car.cost(8, 130000)"
   ]
  },
  {
   "cell_type": "code",
   "execution_count": 52,
   "metadata": {},
   "outputs": [
    {
     "data": {
      "text/plain": [
       "1881.716664"
      ]
     },
     "execution_count": 52,
     "metadata": {},
     "output_type": "execute_result"
    }
   ],
   "source": [
    "Car.consumption_per_km(8)"
   ]
  },
  {
   "cell_type": "code",
   "execution_count": 53,
   "metadata": {},
   "outputs": [],
   "source": [
    "car=Car('Focus','Ford','LPG',1.6, 8, 130000)"
   ]
  },
  {
   "cell_type": "code",
   "execution_count": 54,
   "metadata": {},
   "outputs": [
    {
     "data": {
      "text/plain": [
       "1881.716664"
      ]
     },
     "execution_count": 54,
     "metadata": {},
     "output_type": "execute_result"
    }
   ],
   "source": [
    "car.consumption_per_km2()"
   ]
  },
  {
   "cell_type": "code",
   "execution_count": null,
   "metadata": {},
   "outputs": [],
   "source": []
  }
 ],
 "metadata": {
  "kernelspec": {
   "display_name": "Python 3",
   "language": "python",
   "name": "python3"
  },
  "language_info": {
   "codemirror_mode": {
    "name": "ipython",
    "version": 3
   },
   "file_extension": ".py",
   "mimetype": "text/x-python",
   "name": "python",
   "nbconvert_exporter": "python",
   "pygments_lexer": "ipython3",
   "version": "3.7.0"
  }
 },
 "nbformat": 4,
 "nbformat_minor": 2
}
